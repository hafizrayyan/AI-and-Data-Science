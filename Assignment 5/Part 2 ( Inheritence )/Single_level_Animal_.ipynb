{
  "nbformat": 4,
  "nbformat_minor": 0,
  "metadata": {
    "colab": {
      "provenance": []
    },
    "kernelspec": {
      "name": "python3",
      "display_name": "Python 3"
    },
    "language_info": {
      "name": "python"
    }
  },
  "cells": [
    {
      "cell_type": "markdown",
      "source": [
        "**Method overriding or Polymorphism**"
      ],
      "metadata": {
        "id": "h8ZyouKAJCtZ"
      }
    },
    {
      "cell_type": "code",
      "source": [
        "class Animal():\n",
        "\n",
        "  def __init__(self,sound):\n",
        "    self.sound = sound\n",
        "\n",
        "  def make_sound(self):\n",
        "    print(f\"Animal make {self.sound} .\")\n",
        "\n",
        "class Dog(Animal):\n",
        "\n",
        "  def make_sound(self):\n",
        "    print(f\"Dog make {self.sound} .\")\n"
      ],
      "metadata": {
        "id": "vEoscLj5JCab"
      },
      "execution_count": null,
      "outputs": []
    },
    {
      "cell_type": "code",
      "execution_count": null,
      "metadata": {
        "colab": {
          "base_uri": "https://localhost:8080/"
        },
        "id": "QwkBoVKEIcS7",
        "outputId": "5ab8ed9f-5b6f-4175-a746-f3543edd8e99"
      },
      "outputs": [
        {
          "output_type": "stream",
          "name": "stdout",
          "text": [
            "Animal make sound .\n",
            "Dog make bark .\n"
          ]
        }
      ],
      "source": [
        "animal = Animal(\"sound\")\n",
        "animal.make_sound()\n",
        "\n",
        "dog = Dog(\"bark\")\n",
        "dog.make_sound()"
      ]
    }
  ]
}