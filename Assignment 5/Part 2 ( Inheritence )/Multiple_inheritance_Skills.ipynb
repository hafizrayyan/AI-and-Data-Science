{
  "nbformat": 4,
  "nbformat_minor": 0,
  "metadata": {
    "colab": {
      "provenance": []
    },
    "kernelspec": {
      "name": "python3",
      "display_name": "Python 3"
    },
    "language_info": {
      "name": "python"
    }
  },
  "cells": [
    {
      "cell_type": "markdown",
      "source": [
        "**Multiple inheritance**"
      ],
      "metadata": {
        "id": "qpxr4ZUBS5hu"
      }
    },
    {
      "cell_type": "code",
      "execution_count": null,
      "metadata": {
        "id": "vntKiA1qSxT4"
      },
      "outputs": [],
      "source": [
        "class Father():\n",
        "\n",
        "  def __init__(self,f_skill):\n",
        "    self.f_skill = f_skill\n",
        "\n",
        "  def skills(self):\n",
        "    return f\" {self.f_skill}\"\n",
        "\n",
        "class Mother():\n",
        "\n",
        "  def __init__(self,m_skill):\n",
        "    self.m_skill = m_skill\n",
        "\n",
        "  def skills(self):\n",
        "    return f\" {self.m_skill}\"\n",
        "\n",
        "class Child(Father,Mother):\n",
        "\n",
        "  def __init__(self,f_skill,m_skill):\n",
        "    Father.__init__(self,f_skill)\n",
        "    Mother.__init__(self,m_skill)\n",
        "\n",
        "  def skills(self):\n",
        "    return f\" {self.f_skill} and {self.m_skill}\""
      ]
    },
    {
      "cell_type": "code",
      "source": [
        "child = Child(\"Scientist\",\"Freelancing\")"
      ],
      "metadata": {
        "id": "EC2hjUTFUwUV"
      },
      "execution_count": null,
      "outputs": []
    },
    {
      "cell_type": "code",
      "source": [
        "child.skills()"
      ],
      "metadata": {
        "colab": {
          "base_uri": "https://localhost:8080/",
          "height": 35
        },
        "id": "bJ-R-ni0XgsB",
        "outputId": "f57f9d6a-3805-439a-b31b-eb4f2e6363e9"
      },
      "execution_count": null,
      "outputs": [
        {
          "output_type": "execute_result",
          "data": {
            "text/plain": [
              "' Scientist and Freelancing'"
            ],
            "application/vnd.google.colaboratory.intrinsic+json": {
              "type": "string"
            }
          },
          "metadata": {},
          "execution_count": 113
        }
      ]
    },
    {
      "cell_type": "code",
      "source": [],
      "metadata": {
        "id": "C4FqE46HX_WR"
      },
      "execution_count": null,
      "outputs": []
    }
  ]
}