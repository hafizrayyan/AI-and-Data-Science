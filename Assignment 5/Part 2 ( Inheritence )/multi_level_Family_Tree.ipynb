{
  "nbformat": 4,
  "nbformat_minor": 0,
  "metadata": {
    "colab": {
      "provenance": []
    },
    "kernelspec": {
      "name": "python3",
      "display_name": "Python 3"
    },
    "language_info": {
      "name": "python"
    }
  },
  "cells": [
    {
      "cell_type": "code",
      "execution_count": null,
      "metadata": {
        "id": "5_O1vNZyPoz9"
      },
      "outputs": [],
      "source": [
        "class Grandparent():\n",
        "\n",
        "\n",
        "  def __init__(self,f_name):\n",
        "    self.f_name = f_name\n",
        "\n",
        "  def family_name(self):\n",
        "    print(f\"Family name : {self.f_name}\")\n",
        "\n",
        "class Parent(Grandparent):\n",
        "\n",
        "  def __init__(self,f_name,occ):\n",
        "    super().__init__(f_name)\n",
        "    self.occ = occ\n",
        "\n",
        "  def occupation(self):\n",
        "    print(f\" Occupation : {self.occ}\")\n",
        "\n",
        "class Child(Parent):\n",
        "\n",
        "  def __init__(self,f_name,occ,hob):\n",
        "    super().__init__(f_name,occ)\n",
        "    self.hob = hob\n",
        "\n",
        "  def hobby(self):\n",
        "    print(f\"Hobby : {self.hob}\")\n"
      ]
    },
    {
      "cell_type": "code",
      "source": [
        "child = Child(\"Khan\",\"Engineer\",\"Reading\")"
      ],
      "metadata": {
        "id": "LoXvBa8KSGeW"
      },
      "execution_count": null,
      "outputs": []
    },
    {
      "cell_type": "code",
      "source": [
        "child.family_name()"
      ],
      "metadata": {
        "colab": {
          "base_uri": "https://localhost:8080/"
        },
        "id": "DtDruc7-SbMk",
        "outputId": "2421d6e9-2dc2-4a3b-9353-d2cdcf91771b"
      },
      "execution_count": null,
      "outputs": [
        {
          "output_type": "stream",
          "name": "stdout",
          "text": [
            "Family name : Khan\n"
          ]
        }
      ]
    },
    {
      "cell_type": "code",
      "source": [
        "child.occupation()"
      ],
      "metadata": {
        "colab": {
          "base_uri": "https://localhost:8080/"
        },
        "id": "LbbtE1BqSkF0",
        "outputId": "3fc76c7a-e00e-4125-91b6-6eaaa1e5feee"
      },
      "execution_count": null,
      "outputs": [
        {
          "output_type": "stream",
          "name": "stdout",
          "text": [
            " Occupation : Engineer\n"
          ]
        }
      ]
    },
    {
      "cell_type": "code",
      "source": [
        "child.hobby()"
      ],
      "metadata": {
        "id": "7IUif7i7So8D",
        "outputId": "5644f433-5662-42ed-dc6e-f5d5010b9731",
        "colab": {
          "base_uri": "https://localhost:8080/"
        }
      },
      "execution_count": null,
      "outputs": [
        {
          "output_type": "stream",
          "name": "stdout",
          "text": [
            "Hobby : Reading\n"
          ]
        }
      ]
    },
    {
      "cell_type": "code",
      "source": [],
      "metadata": {
        "id": "vmWC-DNmSrFz"
      },
      "execution_count": null,
      "outputs": []
    }
  ]
}