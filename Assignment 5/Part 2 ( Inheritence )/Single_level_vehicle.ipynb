{
  "nbformat": 4,
  "nbformat_minor": 0,
  "metadata": {
    "colab": {
      "provenance": []
    },
    "kernelspec": {
      "name": "python3",
      "display_name": "Python 3"
    },
    "language_info": {
      "name": "python"
    }
  },
  "cells": [
    {
      "cell_type": "code",
      "execution_count": null,
      "metadata": {
        "id": "CWAosh3GMW62"
      },
      "outputs": [],
      "source": [
        "class Vehicle():\n",
        "\n",
        "  def __init__(self,brand,model):\n",
        "    self.brand = brand\n",
        "    self.model = model\n",
        "\n",
        "class Car(Vehicle):\n",
        "\n",
        "  def __init__(self,brand,model,seats):\n",
        "    super().__init__(brand,model)\n",
        "    self.seats = seats\n",
        "\n",
        "  # creating object for details\n",
        "  def show_details(self):\n",
        "    print(f\"Car brand : {self.brand}\")\n",
        "    print(f\"car model : {self.model}\")\n",
        "    print(f\"Car seats : {self.seats}\")\n",
        "\n"
      ]
    },
    {
      "cell_type": "code",
      "source": [
        "car = Car(\"Honda\",\"X4\", \"5 Seater\")"
      ],
      "metadata": {
        "id": "sZukUprRN-4X"
      },
      "execution_count": null,
      "outputs": []
    },
    {
      "cell_type": "code",
      "source": [
        "car.show_details()"
      ],
      "metadata": {
        "colab": {
          "base_uri": "https://localhost:8080/"
        },
        "id": "tzeJ69IVOZzG",
        "outputId": "2e671f36-1ac3-4457-c80c-bedde19aa671"
      },
      "execution_count": null,
      "outputs": [
        {
          "output_type": "stream",
          "name": "stdout",
          "text": [
            "Car brand : Honda\n",
            "car model : X4\n",
            "Car seats : 5 Seater\n"
          ]
        }
      ]
    },
    {
      "cell_type": "code",
      "source": [],
      "metadata": {
        "id": "SO3A1vqcV6Hi"
      },
      "execution_count": null,
      "outputs": []
    }
  ]
}