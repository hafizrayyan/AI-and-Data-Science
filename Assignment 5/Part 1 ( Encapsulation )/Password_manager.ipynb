{
  "nbformat": 4,
  "nbformat_minor": 0,
  "metadata": {
    "colab": {
      "provenance": []
    },
    "kernelspec": {
      "name": "python3",
      "display_name": "Python 3"
    },
    "language_info": {
      "name": "python"
    }
  },
  "cells": [
    {
      "cell_type": "markdown",
      "source": [
        "**Password Manager**"
      ],
      "metadata": {
        "id": "9znXRRBZ60qc"
      }
    },
    {
      "cell_type": "code",
      "execution_count": null,
      "metadata": {
        "id": "dO1S7jfX6rxs"
      },
      "outputs": [],
      "source": [
        "class PasswordManager():\n",
        "\n",
        "  # contructor\n",
        "  def __init__(self,username,password):\n",
        "    self.username = username\n",
        "    self.__password = password\n",
        "\n",
        "  #instance method\n",
        "  # set password\n",
        "  def password(self):\n",
        "\n",
        "    # checking old password matches or not\n",
        "    old = input(\"Enter your old password to change :\")\n",
        "\n",
        "    if self.__password == old:\n",
        "\n",
        "      new_password = input(\"Enter your new password :\")\n",
        "      self.__password = new_password\n",
        "\n",
        "    else :\n",
        "      print(\"incorrect password!!!\")\n",
        "\n",
        "  # username checking\n",
        "  def __check_username(self):\n",
        "    input_u = input(\"Enter your username :\")\n",
        "    if input_u == self.username :\n",
        "      print(\"True\")\n",
        "    else:\n",
        "        print(\"False\")\n",
        "\n",
        "  # checking password\n",
        "  def __check_password(self):\n",
        "    input_p = input(\"Enter your password :\")\n",
        "    if self.__password == input_p :\n",
        "      print(\"True\")\n",
        "    else:\n",
        "      print(\"False\")\n",
        "\n",
        "  def check_p(self):\n",
        "    self.__check_password()\n",
        "\n",
        "  def check_u(self):\n",
        "    self.__check_username()"
      ]
    },
    {
      "cell_type": "code",
      "source": [
        "u1 = PasswordManager(\"alvirocks\",\"dljf31.\")"
      ],
      "metadata": {
        "id": "UAuPjKQS_GRx"
      },
      "execution_count": null,
      "outputs": []
    },
    {
      "cell_type": "code",
      "source": [
        "u2 = PasswordManager(\"blastermoen\",\"jfh9325\")"
      ],
      "metadata": {
        "id": "Ykc43QWw_ZyP"
      },
      "execution_count": null,
      "outputs": []
    },
    {
      "cell_type": "code",
      "source": [
        "u1.password()"
      ],
      "metadata": {
        "id": "QRh5UKNB_u3-",
        "colab": {
          "base_uri": "https://localhost:8080/"
        },
        "outputId": "5b1b9787-15f7-4c75-c284-53d38c018cc2"
      },
      "execution_count": null,
      "outputs": [
        {
          "output_type": "stream",
          "name": "stdout",
          "text": [
            "Enter your old password to change :asda35\n",
            "incorrect password!!!\n"
          ]
        }
      ]
    },
    {
      "cell_type": "code",
      "source": [
        "u2.password()"
      ],
      "metadata": {
        "colab": {
          "base_uri": "https://localhost:8080/"
        },
        "id": "ZPRmpd-U_3Ov",
        "outputId": "9c9dd4fe-5277-437b-c3f4-9ab9955383d4"
      },
      "execution_count": null,
      "outputs": [
        {
          "name": "stdout",
          "output_type": "stream",
          "text": [
            "Enter your old password to change :jfh9325\n",
            "Enter your new password :aids519\n"
          ]
        }
      ]
    },
    {
      "cell_type": "code",
      "source": [
        "u1.check_u()"
      ],
      "metadata": {
        "id": "h2PKxeELAd0P",
        "colab": {
          "base_uri": "https://localhost:8080/"
        },
        "outputId": "2b854bbb-4ada-4638-d232-c0c43aa2e719"
      },
      "execution_count": null,
      "outputs": [
        {
          "output_type": "stream",
          "name": "stdout",
          "text": [
            "Enter your username :alvirocks\n",
            "True\n"
          ]
        }
      ]
    },
    {
      "cell_type": "code",
      "source": [
        "u2.check_u()"
      ],
      "metadata": {
        "id": "IXEaaSraDYeN",
        "colab": {
          "base_uri": "https://localhost:8080/"
        },
        "outputId": "10cfd12e-f16d-4b92-d168-4a8aa7b9800b"
      },
      "execution_count": null,
      "outputs": [
        {
          "output_type": "stream",
          "name": "stdout",
          "text": [
            "Enter your username :moonstar\n",
            "False\n"
          ]
        }
      ]
    },
    {
      "cell_type": "code",
      "source": [
        "u1.check_p()"
      ],
      "metadata": {
        "colab": {
          "base_uri": "https://localhost:8080/"
        },
        "id": "2Hvx9I3NOkwo",
        "outputId": "ee10826c-45d6-4350-df6f-71f78ab55da0"
      },
      "execution_count": null,
      "outputs": [
        {
          "output_type": "stream",
          "name": "stdout",
          "text": [
            "Enter your password :asdf395\n",
            "False\n"
          ]
        }
      ]
    },
    {
      "cell_type": "code",
      "source": [
        "u2.check_p()"
      ],
      "metadata": {
        "colab": {
          "base_uri": "https://localhost:8080/"
        },
        "id": "hX5BPQKMjE_B",
        "outputId": "254d3124-1086-4985-d18e-cb37ec08b415"
      },
      "execution_count": null,
      "outputs": [
        {
          "output_type": "stream",
          "name": "stdout",
          "text": [
            "Enter your password :aids519\n",
            "True\n"
          ]
        }
      ]
    },
    {
      "cell_type": "code",
      "source": [],
      "metadata": {
        "id": "zScsXFk5jZqh"
      },
      "execution_count": null,
      "outputs": []
    }
  ]
}