{
  "nbformat": 4,
  "nbformat_minor": 0,
  "metadata": {
    "colab": {
      "provenance": []
    },
    "kernelspec": {
      "name": "python3",
      "display_name": "Python 3"
    },
    "language_info": {
      "name": "python"
    }
  },
  "cells": [
    {
      "cell_type": "markdown",
      "source": [
        "** Employee salary protection**"
      ],
      "metadata": {
        "id": "Qn29LBx-kUAH"
      }
    },
    {
      "cell_type": "code",
      "execution_count": null,
      "metadata": {
        "id": "v5l6JecZj0fM"
      },
      "outputs": [],
      "source": [
        "class Employee():\n",
        "  def __init__(self,name,salary):\n",
        "    self.name = name\n",
        "    self.salary = salary\n",
        "# getter method\n",
        "  def get_name(self):\n",
        "    print(f\"Employee name : {self.name} \")\n",
        "\n",
        "  # setter method\n",
        "  def set_salary(self):\n",
        "    p=int(input(\"Enter the salary :\"))\n",
        "# checking salary is positive or not\n",
        "    if p > 0 :\n",
        "      self.salary = p\n",
        "\n",
        "    else:\n",
        "      print(\"Invalid !!!\")\n",
        "\n",
        "  # show details\n",
        "  def show(self):\n",
        "    print(f\"Employee Name : {self.name} \")\n",
        "    print(f\"Salary : {self.salary}\")"
      ]
    },
    {
      "cell_type": "code",
      "source": [
        "e1 = Employee(\"Kamran\", 80000)"
      ],
      "metadata": {
        "id": "geI0huzNvp3W"
      },
      "execution_count": null,
      "outputs": []
    },
    {
      "cell_type": "code",
      "source": [
        "e2 = Employee(\"Waqar\",60000)"
      ],
      "metadata": {
        "id": "BN699097v55z"
      },
      "execution_count": null,
      "outputs": []
    },
    {
      "cell_type": "code",
      "source": [
        "e1.get_name()"
      ],
      "metadata": {
        "colab": {
          "base_uri": "https://localhost:8080/"
        },
        "id": "KFCBdIzvwD6C",
        "outputId": "5b3a5327-c6a5-4785-8334-a8de42a165cf"
      },
      "execution_count": null,
      "outputs": [
        {
          "output_type": "stream",
          "name": "stdout",
          "text": [
            "Employee name : Kamran \n"
          ]
        }
      ]
    },
    {
      "cell_type": "code",
      "source": [
        "e2.set_salary()"
      ],
      "metadata": {
        "colab": {
          "base_uri": "https://localhost:8080/"
        },
        "id": "5bL6cwBjwH9D",
        "outputId": "03d1471b-4064-42de-b4da-a99c5f044307"
      },
      "execution_count": null,
      "outputs": [
        {
          "name": "stdout",
          "output_type": "stream",
          "text": [
            "Enter the salary :65000\n"
          ]
        }
      ]
    },
    {
      "cell_type": "code",
      "source": [
        "e1.show()"
      ],
      "metadata": {
        "colab": {
          "base_uri": "https://localhost:8080/"
        },
        "id": "h8W1gTO5wO5i",
        "outputId": "c353b99a-4135-44b7-f937-146c82fd5cb7"
      },
      "execution_count": null,
      "outputs": [
        {
          "output_type": "stream",
          "name": "stdout",
          "text": [
            "Employee Name : Kamran \n",
            "Salary : 80000\n"
          ]
        }
      ]
    },
    {
      "cell_type": "code",
      "source": [
        "e1.set_salary()"
      ],
      "metadata": {
        "colab": {
          "base_uri": "https://localhost:8080/"
        },
        "id": "TfBXrj-ExWUT",
        "outputId": "4d78dea1-fa94-45e6-b043-e52774f8da6e"
      },
      "execution_count": null,
      "outputs": [
        {
          "output_type": "stream",
          "name": "stdout",
          "text": [
            "Enter the salary :-6522\n",
            "Invalid !!!\n"
          ]
        }
      ]
    },
    {
      "cell_type": "code",
      "source": [
        "e2.show()"
      ],
      "metadata": {
        "colab": {
          "base_uri": "https://localhost:8080/"
        },
        "id": "ZeL59emNxZQy",
        "outputId": "8767e144-9e0a-4cc6-dc3b-399765bf9e94"
      },
      "execution_count": null,
      "outputs": [
        {
          "output_type": "stream",
          "name": "stdout",
          "text": [
            "Employee Name : Waqar \n",
            "Salary : 65000\n"
          ]
        }
      ]
    },
    {
      "cell_type": "code",
      "source": [
        "e1.show()"
      ],
      "metadata": {
        "colab": {
          "base_uri": "https://localhost:8080/"
        },
        "id": "tfCKuYr1ynLC",
        "outputId": "1936414b-f555-4773-c526-906dce6878cf"
      },
      "execution_count": null,
      "outputs": [
        {
          "output_type": "stream",
          "name": "stdout",
          "text": [
            "Employee Name : Kamran \n",
            "Salary : 80000\n"
          ]
        }
      ]
    }
  ]
}