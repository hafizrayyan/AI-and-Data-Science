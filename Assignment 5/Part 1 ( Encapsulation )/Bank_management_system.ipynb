{
  "nbformat": 4,
  "nbformat_minor": 0,
  "metadata": {
    "colab": {
      "provenance": []
    },
    "kernelspec": {
      "name": "python3",
      "display_name": "Python 3"
    },
    "language_info": {
      "name": "python"
    }
  },
  "cells": [
    {
      "cell_type": "markdown",
      "source": [
        "**Bank management system**"
      ],
      "metadata": {
        "id": "M7WIy9YWS6wZ"
      }
    },
    {
      "cell_type": "code",
      "execution_count": null,
      "metadata": {
        "id": "Qk8FFZGLS31u"
      },
      "outputs": [],
      "source": [
        "class BankAccount():\n",
        "\n",
        "  def __init__(self,balance,account_number):\n",
        "    self.__balance = balance\n",
        "    self.__account_number = account_number\n",
        "  # instance method\n",
        "\n",
        "  def deposite(self):\n",
        "  # deposite function\n",
        "\n",
        "    dep = int(input(\"Enter the amount you want to deposite : \"))\n",
        "    self.__balance += dep\n",
        "    print(f\"New balance: {self.__balance}\")\n",
        "\n",
        "\n",
        "   # withdrawl function\n",
        "  def withdraw(self):\n",
        "\n",
        "        # checking balance\n",
        "      wit = int(input(\"enter the ammount you want to withdraw :\"))\n",
        "      if wit <= self.__balance:\n",
        "        self.__balance -= wit\n",
        "        print(f\"New balance : {self.__balance}\")\n",
        "\n",
        "      else :\n",
        "        print(\"unsufficient amount!!\")\n",
        "\n",
        "  def get_balance(self):\n",
        "    print(f\"Balance : {self.__balance}\")\n",
        "\n"
      ]
    },
    {
      "cell_type": "code",
      "source": [
        "a1 = BankAccount(50000,2536000)"
      ],
      "metadata": {
        "id": "d_WSiD3KVPod"
      },
      "execution_count": null,
      "outputs": []
    },
    {
      "cell_type": "code",
      "source": [
        "a2= BankAccount(8000, 1568000)"
      ],
      "metadata": {
        "id": "uRrjWO8NXRat"
      },
      "execution_count": null,
      "outputs": []
    },
    {
      "cell_type": "code",
      "source": [
        "a1.deposite()"
      ],
      "metadata": {
        "colab": {
          "base_uri": "https://localhost:8080/"
        },
        "id": "LMuR_YhgVe19",
        "outputId": "e89722d5-59e4-4e3e-a8a5-723fc1cc283b"
      },
      "execution_count": null,
      "outputs": [
        {
          "output_type": "stream",
          "name": "stdout",
          "text": [
            "Enter the amount you want to deposite : 5000\n",
            "New balance: 55000\n"
          ]
        }
      ]
    },
    {
      "cell_type": "code",
      "source": [
        "a2.withdraw()\n"
      ],
      "metadata": {
        "colab": {
          "base_uri": "https://localhost:8080/"
        },
        "id": "A_KNTlVOYWJN",
        "outputId": "347d5a78-1cc6-4237-a359-2bd4e37a356f"
      },
      "execution_count": null,
      "outputs": [
        {
          "output_type": "stream",
          "name": "stdout",
          "text": [
            "enter the ammount you want to withdraw :20000\n",
            "unsufficient amount!!\n"
          ]
        }
      ]
    },
    {
      "cell_type": "code",
      "source": [
        "a1.withdraw()\n"
      ],
      "metadata": {
        "colab": {
          "base_uri": "https://localhost:8080/"
        },
        "id": "qURehvhsZ9S-",
        "outputId": "f1ed958f-60ae-4cbc-d1a0-41fafde98d08"
      },
      "execution_count": null,
      "outputs": [
        {
          "output_type": "stream",
          "name": "stdout",
          "text": [
            "enter the ammount you want to withdraw :25000\n",
            "New balance : 30000\n"
          ]
        }
      ]
    },
    {
      "cell_type": "code",
      "source": [
        "a1.get_balance()"
      ],
      "metadata": {
        "colab": {
          "base_uri": "https://localhost:8080/"
        },
        "id": "bzPb3I5b1ct9",
        "outputId": "cf46fb93-5a2a-4989-c8a8-60ad85d70086"
      },
      "execution_count": null,
      "outputs": [
        {
          "output_type": "stream",
          "name": "stdout",
          "text": [
            "Balance : 30000\n"
          ]
        }
      ]
    }
  ]
}