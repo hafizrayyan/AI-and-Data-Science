{
  "nbformat": 4,
  "nbformat_minor": 0,
  "metadata": {
    "colab": {
      "provenance": []
    },
    "kernelspec": {
      "name": "python3",
      "display_name": "Python 3"
    },
    "language_info": {
      "name": "python"
    }
  },
  "cells": [
    {
      "cell_type": "code",
      "execution_count": null,
      "metadata": {
        "id": "hQDzZG-yzdA8"
      },
      "outputs": [],
      "source": [
        "class ShoppingCart():\n",
        "\n",
        "  def __init__(self,s_list):\n",
        "    self.s_list = s_list\n",
        "\n",
        "  # add items in list\n",
        "  def add_items(self,l_items):\n",
        "    for item in l_items:\n",
        "      if item not in self.s_list:\n",
        "        self.s_list.append(item)\n",
        "\n",
        "\n",
        "\n",
        "  def remove_items(self,l_remove):\n",
        "    self.l_remove = l_remove\n",
        "    for_l = self.s_list\n",
        "    for item in l_remove:\n",
        "      if item in for_l:\n",
        "        for_l.remove(item)\n",
        "        self.s_list = for_l\n",
        "\n",
        "\n",
        "\n",
        "\n",
        "\n",
        "  def view_cart(self):\n",
        "    print(f\"List items : {self.s_list}\")\n"
      ]
    },
    {
      "cell_type": "code",
      "source": [
        "s = ShoppingCart([\"apple\",\"meat\",\"milk\",\"banana\"])"
      ],
      "metadata": {
        "id": "wYYpJXFhLY8p"
      },
      "execution_count": null,
      "outputs": []
    },
    {
      "cell_type": "code",
      "source": [
        "s.add_items([\"banana\",\"meat\",\"bread\"])"
      ],
      "metadata": {
        "id": "jgKxgMV8Ljlo"
      },
      "execution_count": null,
      "outputs": []
    },
    {
      "cell_type": "code",
      "source": [
        "s.view_cart()"
      ],
      "metadata": {
        "colab": {
          "base_uri": "https://localhost:8080/"
        },
        "id": "CR8vnclGLoq4",
        "outputId": "9bafced0-a451-4795-bb9e-3ffb5c786da3"
      },
      "execution_count": null,
      "outputs": [
        {
          "output_type": "stream",
          "name": "stdout",
          "text": [
            "List items : ['apple', 'meat', 'milk', 'banana', 'bread']\n"
          ]
        }
      ]
    },
    {
      "cell_type": "code",
      "source": [
        "s.remove_items([\"apple\",\"egg\"])"
      ],
      "metadata": {
        "id": "1v1qgcz_LqUY"
      },
      "execution_count": null,
      "outputs": []
    },
    {
      "cell_type": "code",
      "source": [
        "s.view_cart()"
      ],
      "metadata": {
        "colab": {
          "base_uri": "https://localhost:8080/"
        },
        "id": "zQHw_cc0L6ho",
        "outputId": "ce4d3653-4d64-4bde-f2f4-9d7ba7c5761c"
      },
      "execution_count": null,
      "outputs": [
        {
          "output_type": "stream",
          "name": "stdout",
          "text": [
            "List items : ['meat', 'milk', 'banana', 'bread']\n"
          ]
        }
      ]
    },
    {
      "cell_type": "code",
      "source": [],
      "metadata": {
        "id": "idBVBz-kL8tX"
      },
      "execution_count": null,
      "outputs": []
    }
  ]
}