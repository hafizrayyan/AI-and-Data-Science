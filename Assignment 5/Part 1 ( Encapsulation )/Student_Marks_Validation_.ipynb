{
  "nbformat": 4,
  "nbformat_minor": 0,
  "metadata": {
    "colab": {
      "provenance": []
    },
    "kernelspec": {
      "name": "python3",
      "display_name": "Python 3"
    },
    "language_info": {
      "name": "python"
    }
  },
  "cells": [
    {
      "cell_type": "markdown",
      "source": [
        "**Student Marks Validation**"
      ],
      "metadata": {
        "id": "v21XF8hA2UG5"
      }
    },
    {
      "cell_type": "code",
      "execution_count": null,
      "metadata": {
        "id": "GWKrO-oy2Sti"
      },
      "outputs": [],
      "source": [
        "class Student():\n",
        "\n",
        "  # constructor\n",
        "  def __init__(self,name,roll_no,marks):\n",
        "    self.__name = name\n",
        "    self.__roll_no = roll_no\n",
        "    self.__marks = marks\n",
        "\n",
        "# setter method\n",
        "  def set_marks(self,new_marks):\n",
        "    if 0 <= new_marks <= 100:\n",
        "     self.__marks = new_marks\n",
        "    else:\n",
        "      print(\"Invalid!!\")\n",
        "\n",
        "# getter method\n",
        "  def get_name(self):\n",
        "    return self.__name\n",
        "\n",
        "  def get_roll_no(self):\n",
        "    return self.__roll_no\n",
        "\n",
        "  def get_marks(self):\n",
        "    return self.__marks\n",
        "\n",
        "\n",
        "\n"
      ]
    },
    {
      "cell_type": "code",
      "source": [
        "s1 = Student(\"Tahir\" , \"ai564\" , 78 )"
      ],
      "metadata": {
        "id": "VfUXVHQj5_QY"
      },
      "execution_count": null,
      "outputs": []
    },
    {
      "cell_type": "code",
      "source": [
        "s2 = Student(\"Abbas\" ,\"ai489\" , 85)"
      ],
      "metadata": {
        "id": "LXulzTzI6qMu"
      },
      "execution_count": null,
      "outputs": []
    },
    {
      "cell_type": "code",
      "source": [
        "s1.set_marks(80)"
      ],
      "metadata": {
        "id": "Y7l7Ycpw6zR9"
      },
      "execution_count": null,
      "outputs": []
    },
    {
      "cell_type": "code",
      "source": [
        "s1.get_marks()"
      ],
      "metadata": {
        "colab": {
          "base_uri": "https://localhost:8080/"
        },
        "id": "OI-ZcKab67Gl",
        "outputId": "b4ecddbd-415a-4b97-fadc-fc53c707783e"
      },
      "execution_count": null,
      "outputs": [
        {
          "output_type": "execute_result",
          "data": {
            "text/plain": [
              "80"
            ]
          },
          "metadata": {},
          "execution_count": 16
        }
      ]
    },
    {
      "cell_type": "code",
      "source": [
        "s2.get_name()"
      ],
      "metadata": {
        "id": "e4XPkPkI9qvZ",
        "colab": {
          "base_uri": "https://localhost:8080/",
          "height": 35
        },
        "outputId": "69ff3536-580a-4c82-ce87-7fe8c46020b4"
      },
      "execution_count": null,
      "outputs": [
        {
          "output_type": "execute_result",
          "data": {
            "text/plain": [
              "'Abbas'"
            ],
            "application/vnd.google.colaboratory.intrinsic+json": {
              "type": "string"
            }
          },
          "metadata": {},
          "execution_count": 17
        }
      ]
    },
    {
      "cell_type": "code",
      "source": [
        "s2.set_marks(100)"
      ],
      "metadata": {
        "id": "0ywHAggZ6IWx"
      },
      "execution_count": null,
      "outputs": []
    },
    {
      "cell_type": "code",
      "source": [
        "s2.get_marks()"
      ],
      "metadata": {
        "colab": {
          "base_uri": "https://localhost:8080/"
        },
        "id": "iJXFsLVq6Mxh",
        "outputId": "1e8047ac-a8c6-422d-95b0-f4a26ae71d06"
      },
      "execution_count": null,
      "outputs": [
        {
          "output_type": "execute_result",
          "data": {
            "text/plain": [
              "100"
            ]
          },
          "metadata": {},
          "execution_count": 19
        }
      ]
    },
    {
      "cell_type": "code",
      "source": [
        "s2.get_roll_no()"
      ],
      "metadata": {
        "id": "ky44kYmZ6ifB",
        "outputId": "6990271a-32c6-42b2-c06c-6d8dae1eedb3",
        "colab": {
          "base_uri": "https://localhost:8080/",
          "height": 35
        }
      },
      "execution_count": null,
      "outputs": [
        {
          "output_type": "execute_result",
          "data": {
            "text/plain": [
              "'ai489'"
            ],
            "application/vnd.google.colaboratory.intrinsic+json": {
              "type": "string"
            }
          },
          "metadata": {},
          "execution_count": 20
        }
      ]
    }
  ]
}